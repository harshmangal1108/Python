{
 "cells": [
  {
   "cell_type": "code",
   "execution_count": 1,
   "metadata": {},
   "outputs": [
    {
     "name": "stdout",
     "output_type": "stream",
     "text": [
      "Requirement already satisfied: mysql-connector-python in h:\\anaconda\\lib\\site-packages (8.0.16)\n",
      "Requirement already satisfied: protobuf>=3.0.0 in h:\\anaconda\\lib\\site-packages (from mysql-connector-python) (3.8.0)\n",
      "Requirement already satisfied: setuptools in h:\\anaconda\\lib\\site-packages (from protobuf>=3.0.0->mysql-connector-python) (40.8.0)\n",
      "Requirement already satisfied: six>=1.9 in c:\\users\\harsh\\appdata\\roaming\\python\\python37\\site-packages (from protobuf>=3.0.0->mysql-connector-python) (1.12.0)\n"
     ]
    }
   ],
   "source": [
    "!pip install mysql-connector-python\n",
    "import mysql.connector"
   ]
  },
  {
   "cell_type": "code",
   "execution_count": 7,
   "metadata": {},
   "outputs": [
    {
     "name": "stdout",
     "output_type": "stream",
     "text": [
      "DATABASE CREATED SUCCESFULLY\n"
     ]
    }
   ],
   "source": [
    "con=mysql.connector.connect(host=\"localhost\",database='mysql',user='root',password=\"root\",auth_plugin='mysql_native_password')\n",
    "cur=con.cursor()\n",
    "cur.execute('CREATE DATABASE DEMO1')\n",
    "print(\"DATABASE CREATED SUCCESFULLY\")\n"
   ]
  },
  {
   "cell_type": "code",
   "execution_count": null,
   "metadata": {},
   "outputs": [],
   "source": []
  },
  {
   "cell_type": "code",
   "execution_count": null,
   "metadata": {},
   "outputs": [],
   "source": []
  },
  {
   "cell_type": "code",
   "execution_count": null,
   "metadata": {},
   "outputs": [],
   "source": []
  }
 ],
 "metadata": {
  "kernelspec": {
   "display_name": "Python 3",
   "language": "python",
   "name": "python3"
  },
  "language_info": {
   "codemirror_mode": {
    "name": "ipython",
    "version": 3
   },
   "file_extension": ".py",
   "mimetype": "text/x-python",
   "name": "python",
   "nbconvert_exporter": "python",
   "pygments_lexer": "ipython3",
   "version": "3.7.3"
  }
 },
 "nbformat": 4,
 "nbformat_minor": 2
}
