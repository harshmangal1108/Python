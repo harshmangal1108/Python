{
 "cells": [
  {
   "cell_type": "code",
   "execution_count": null,
   "metadata": {},
   "outputs": [],
   "source": [
    "#### INSERTING IMAGES"
   ]
  },
  {
   "cell_type": "code",
   "execution_count": null,
   "metadata": {},
   "outputs": [],
   "source": [
    "import mysql.connector as msq\n",
    "con=msq.connect(host=\"localhost\",database=\"demo1\",user=\"root\",password=\"root\")\n",
    "cur=con.cursor()"
   ]
  },
  {
   "cell_type": "code",
   "execution_count": null,
   "metadata": {},
   "outputs": [],
   "source": [
    "## CREATING TABLE USING BLOB DATATYPE\n",
    "cur.execute(\"\"\"create table images(   \n",
    "id int PRIMARY KEY,data MEDIUMBLOB)\"\"\")"
   ]
  },
  {
   "cell_type": "code",
   "execution_count": null,
   "metadata": {},
   "outputs": [],
   "source": [
    "### INSERT IMAGE\n",
    "with open(\"bg.png\", encoding=\"utf8\",errors=\"ignore\") as photo : ## ENCODING METHOD UTF8 AND ALSO TO IGNORE ERRORS\n",
    " show_photo=photo.read()\n",
    "cur.execute(\"insert into images values(1,%s)\",(show_photo,))\n",
    "con.commit()"
   ]
  },
  {
   "cell_type": "code",
   "execution_count": null,
   "metadata": {},
   "outputs": [],
   "source": []
  }
 ],
 "metadata": {
  "kernelspec": {
   "display_name": "Python 3",
   "language": "python",
   "name": "python3"
  },
  "language_info": {
   "codemirror_mode": {
    "name": "ipython",
    "version": 3
   },
   "file_extension": ".py",
   "mimetype": "text/x-python",
   "name": "python",
   "nbconvert_exporter": "python",
   "pygments_lexer": "ipython3",
   "version": "3.7.3"
  }
 },
 "nbformat": 4,
 "nbformat_minor": 2
}
