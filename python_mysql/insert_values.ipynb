{
 "cells": [
  {
   "cell_type": "code",
   "execution_count": 11,
   "metadata": {},
   "outputs": [],
   "source": [
    "import mysql.connector as msq\n",
    "con=msq.connect(host=\"localhost\",database=\"demo1\",user=\"root\",password=\"root\")\n",
    "cur=con.cursor()\n"
   ]
  },
  {
   "cell_type": "code",
   "execution_count": 12,
   "metadata": {},
   "outputs": [
    {
     "name": "stdout",
     "output_type": "stream",
     "text": [
      "values inserted succesfully\n"
     ]
    }
   ],
   "source": [
    "query=\"\"\"INSERT INTO table1\n",
    "          VALUES('NAME2','PASS2','SENT2','SONG2')\"\"\"\n",
    "cur.execute(query)\n",
    "con.commit()\n",
    "con.close()\n",
    "print(\"values inserted succesfully\")"
   ]
  },
  {
   "cell_type": "code",
   "execution_count": null,
   "metadata": {},
   "outputs": [],
   "source": []
  }
 ],
 "metadata": {
  "kernelspec": {
   "display_name": "Python 3",
   "language": "python",
   "name": "python3"
  },
  "language_info": {
   "codemirror_mode": {
    "name": "ipython",
    "version": 3
   },
   "file_extension": ".py",
   "mimetype": "text/x-python",
   "name": "python",
   "nbconvert_exporter": "python",
   "pygments_lexer": "ipython3",
   "version": "3.7.3"
  }
 },
 "nbformat": 4,
 "nbformat_minor": 2
}
