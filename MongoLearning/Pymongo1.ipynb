{
 "cells": [
  {
   "cell_type": "code",
   "execution_count": 1,
   "metadata": {},
   "outputs": [],
   "source": [
    "import pymongo\n",
    "import pprint"
   ]
  },
  {
   "cell_type": "code",
   "execution_count": 2,
   "metadata": {},
   "outputs": [
    {
     "name": "stdout",
     "output_type": "stream",
     "text": [
      "MongoClient(host=['localhost:27017'], document_class=dict, tz_aware=False, connect=True)\n"
     ]
    }
   ],
   "source": [
    "## establish connection\n",
    "from pymongo import MongoClient\n",
    "client=MongoClient()\n",
    "print(client)"
   ]
  },
  {
   "cell_type": "code",
   "execution_count": 3,
   "metadata": {},
   "outputs": [
    {
     "name": "stdout",
     "output_type": "stream",
     "text": [
      "['admin', 'config', 'flight', 'local', 'shop', 'test_database']\n"
     ]
    }
   ],
   "source": [
    "\n",
    "'''\n",
    "client=MongoClient(\"Localhost\",27017)\n",
    "client=MongoClient(\"mongodb://localhost:27107\")\n",
    "\n",
    "'''\n",
    "###check Databases\n",
    "print(client.list_database_names())\n"
   ]
  },
  {
   "cell_type": "code",
   "execution_count": 4,
   "metadata": {},
   "outputs": [
    {
     "name": "stdout",
     "output_type": "stream",
     "text": [
      "Database(MongoClient(host=['localhost:27017'], document_class=dict, tz_aware=False, connect=True), 'test_database')\n",
      "['courses']\n"
     ]
    }
   ],
   "source": [
    "###create DB\n",
    "db=client.test_database ## client['test-database']\n",
    "print(db)\n",
    "print(db.list_collection_names())"
   ]
  },
  {
   "cell_type": "code",
   "execution_count": 5,
   "metadata": {},
   "outputs": [
    {
     "name": "stdout",
     "output_type": "stream",
     "text": [
      "Collection(Database(MongoClient(host=['localhost:27017'], document_class=dict, tz_aware=False, connect=True), 'test_database'), 'courses')\n"
     ]
    }
   ],
   "source": [
    "###collection\n",
    "courses=db.courses  #db['course']\n",
    "print(courses)"
   ]
  },
  {
   "cell_type": "markdown",
   "metadata": {},
   "source": [
    "### CREATE"
   ]
  },
  {
   "cell_type": "code",
   "execution_count": null,
   "metadata": {},
   "outputs": [],
   "source": [
    " ### insert doc\n",
    "course={\"author\":\"harsh\",\"course\":\"mongo-tut\",'price':100}\n",
    "result=courses.insert_one(course)\n",
    "if result.acknowledged:\n",
    "    print(\"Doc added Id is..\",result.inserted_id)"
   ]
  },
  {
   "cell_type": "code",
   "execution_count": 7,
   "metadata": {},
   "outputs": [
    {
     "name": "stdout",
     "output_type": "stream",
     "text": [
      "Docs added ids are.. [ObjectId('5f578fbf00b15a19c526f4d8'), ObjectId('5f578fbf00b15a19c526f4d9'), ObjectId('5f578fbf00b15a19c526f4da'), ObjectId('5f578fbf00b15a19c526f4db'), ObjectId('5f578fbf00b15a19c526f4dc'), ObjectId('5f578fbf00b15a19c526f4dd'), ObjectId('5f578fbf00b15a19c526f4de'), ObjectId('5f578fbf00b15a19c526f4df'), ObjectId('5f578fbf00b15a19c526f4e0'), ObjectId('5f578fbf00b15a19c526f4e1'), ObjectId('5f578fbf00b15a19c526f4e2'), ObjectId('5f578fbf00b15a19c526f4e3'), ObjectId('5f578fbf00b15a19c526f4e4'), ObjectId('5f578fbf00b15a19c526f4e5'), ObjectId('5f578fbf00b15a19c526f4e6'), ObjectId('5f578fbf00b15a19c526f4e7'), ObjectId('5f578fbf00b15a19c526f4e8')]\n"
     ]
    }
   ],
   "source": [
    "### inserting many\n",
    "array_courses=[\n",
    "  {\n",
    "    \"name\": \"Max Schwarzmueller\",\n",
    "    \"age\": 29\n",
    "  },\n",
    "  {\n",
    "    \"name\": \"Manu Lorenz\",\n",
    "    \"age\": 30\n",
    "  },\n",
    "  {\n",
    "    \"name\": \"Chris Hayton\",\n",
    "    \"age\": 35\n",
    "  },\n",
    "  {\n",
    "    \"name\": \"Sandra Brugge\",\n",
    "    \"age\": 33\n",
    "  },\n",
    "  {\n",
    "    \"name\": \"Elisabeth Mayr\",\n",
    "    \"age\": 29\n",
    "  },\n",
    "  {\n",
    "    \"name\": \"Frank Cube\",\n",
    "    \"age\": 41\n",
    "  },\n",
    "  {\n",
    "    \"name\": \"Karandeep Alun\",\n",
    "    \"age\": 48\n",
    "  },\n",
    "  {\n",
    "    \"name\": \"Michaela Drayer\",\n",
    "    \"age\": 39\n",
    "  },\n",
    "  {\n",
    "    \"name\": \"Bernd Hoftstadt\",\n",
    "    \"age\": 22\n",
    "  },\n",
    "  {\n",
    "    \"name\": \"Scott Tolib\",\n",
    "    \"age\": 44\n",
    "  },\n",
    "  {\n",
    "    \"name\": \"Freddy Melver\",\n",
    "    \"age\": 41\n",
    "  },\n",
    "  {\n",
    "    \"name\": \"Alexis Bohed\",\n",
    "    \"age\": 35\n",
    "  },\n",
    "  {\n",
    "    \"name\": \"Melanie Palace\",\n",
    "    \"age\": 27\n",
    "  },\n",
    "  {\n",
    "    \"name\": \"Armin Glutch\",\n",
    "    \"age\": 35\n",
    "  },\n",
    "  {\n",
    "    \"name\": \"Klaus Arber\",\n",
    "    \"age\": 53\n",
    "  },\n",
    "  {\n",
    "    \"name\": \"Albert Twostone\",\n",
    "    \"age\": 68\n",
    "  },\n",
    "  {\n",
    "    \"name\": \"Gordon Black\",\n",
    "    \"age\": 38\n",
    "  }\n",
    "]\n",
    "result=courses.insert_many(array_courses)\n",
    "if result.acknowledged:\n",
    "    print(\"Docs added ids are..\",result.inserted_ids)\n"
   ]
  },
  {
   "cell_type": "code",
   "execution_count": 8,
   "metadata": {},
   "outputs": [
    {
     "name": "stdout",
     "output_type": "stream",
     "text": [
      "18\n"
     ]
    }
   ],
   "source": [
    "##count Docss in collection..\n",
    "print(db.courses.count_documents({}))"
   ]
  },
  {
   "cell_type": "code",
   "execution_count": 9,
   "metadata": {},
   "outputs": [],
   "source": [
    "#for object_id in result.inserted_ids:\n",
    " #   print(object_id)"
   ]
  },
  {
   "cell_type": "markdown",
   "metadata": {},
   "source": [
    "### READ"
   ]
  },
  {
   "cell_type": "code",
   "execution_count": 10,
   "metadata": {},
   "outputs": [
    {
     "name": "stdout",
     "output_type": "stream",
     "text": [
      "{'_id': ObjectId('5f578fbf00b15a19c526f4d7'), 'author': 'harsh', 'course': 'mongo-tut', 'price': 100}\n",
      "{'_id': ObjectId('5f578fbf00b15a19c526f4d8'), 'name': 'Max Schwarzmueller', 'age': 29}\n",
      "{'_id': ObjectId('5f578fbf00b15a19c526f4d9'), 'name': 'Manu Lorenz', 'age': 30}\n",
      "{'_id': ObjectId('5f578fbf00b15a19c526f4da'), 'name': 'Chris Hayton', 'age': 35}\n",
      "{'_id': ObjectId('5f578fbf00b15a19c526f4db'), 'name': 'Sandra Brugge', 'age': 33}\n",
      "{'_id': ObjectId('5f578fbf00b15a19c526f4dc'), 'name': 'Elisabeth Mayr', 'age': 29}\n",
      "{'_id': ObjectId('5f578fbf00b15a19c526f4dd'), 'name': 'Frank Cube', 'age': 41}\n",
      "{'_id': ObjectId('5f578fbf00b15a19c526f4de'), 'name': 'Karandeep Alun', 'age': 48}\n",
      "{'_id': ObjectId('5f578fbf00b15a19c526f4df'), 'name': 'Michaela Drayer', 'age': 39}\n",
      "{'_id': ObjectId('5f578fbf00b15a19c526f4e0'), 'name': 'Bernd Hoftstadt', 'age': 22}\n",
      "{'_id': ObjectId('5f578fbf00b15a19c526f4e1'), 'name': 'Scott Tolib', 'age': 44}\n",
      "{'_id': ObjectId('5f578fbf00b15a19c526f4e2'), 'name': 'Freddy Melver', 'age': 41}\n",
      "{'_id': ObjectId('5f578fbf00b15a19c526f4e3'), 'name': 'Alexis Bohed', 'age': 35}\n",
      "{'_id': ObjectId('5f578fbf00b15a19c526f4e4'), 'name': 'Melanie Palace', 'age': 27}\n",
      "{'_id': ObjectId('5f578fbf00b15a19c526f4e5'), 'name': 'Armin Glutch', 'age': 35}\n",
      "{'_id': ObjectId('5f578fbf00b15a19c526f4e6'), 'name': 'Klaus Arber', 'age': 53}\n",
      "{'_id': ObjectId('5f578fbf00b15a19c526f4e7'), 'name': 'Albert Twostone', 'age': 68}\n",
      "{'_id': ObjectId('5f578fbf00b15a19c526f4e8'), 'name': 'Gordon Black', 'age': 38}\n"
     ]
    }
   ],
   "source": [
    "### retrieve data\n",
    "courses=courses.find() ##it will return cursor\n",
    "for course in courses:\n",
    "    print(course)\n",
    "    #pprint.pprint(course)"
   ]
  },
  {
   "cell_type": "code",
   "execution_count": null,
   "metadata": {},
   "outputs": [],
   "source": []
  },
  {
   "cell_type": "code",
   "execution_count": null,
   "metadata": {},
   "outputs": [],
   "source": []
  },
  {
   "cell_type": "code",
   "execution_count": null,
   "metadata": {},
   "outputs": [],
   "source": []
  }
 ],
 "metadata": {
  "kernelspec": {
   "display_name": "Python 3",
   "language": "python",
   "name": "python3"
  },
  "language_info": {
   "codemirror_mode": {
    "name": "ipython",
    "version": 3
   },
   "file_extension": ".py",
   "mimetype": "text/x-python",
   "name": "python",
   "nbconvert_exporter": "python",
   "pygments_lexer": "ipython3",
   "version": "3.8.5"
  }
 },
 "nbformat": 4,
 "nbformat_minor": 4
}
