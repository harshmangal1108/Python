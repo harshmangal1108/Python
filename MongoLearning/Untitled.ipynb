{
 "cells": [
  {
   "cell_type": "code",
   "execution_count": 1,
   "metadata": {},
   "outputs": [],
   "source": [
    "from pymongo import MongoClient\n",
    "client=MongoClient()"
   ]
  },
  {
   "cell_type": "code",
   "execution_count": 2,
   "metadata": {},
   "outputs": [],
   "source": [
    "db=client.newdb"
   ]
  },
  {
   "cell_type": "code",
   "execution_count": 3,
   "metadata": {},
   "outputs": [
    {
     "name": "stderr",
     "output_type": "stream",
     "text": [
      "<ipython-input-3-8ff4d2505e25>:1: DeprecationWarning: collection_names is deprecated. Use list_collection_names instead.\n",
      "  db.collection_names()\n"
     ]
    },
    {
     "data": {
      "text/plain": [
       "['statscollection', 'collection1', 'collection']"
      ]
     },
     "execution_count": 3,
     "metadata": {},
     "output_type": "execute_result"
    }
   ],
   "source": [
    "db.collection_names()"
   ]
  },
  {
   "cell_type": "code",
   "execution_count": 4,
   "metadata": {},
   "outputs": [],
   "source": [
    "stats=db.statscollection"
   ]
  },
  {
   "cell_type": "code",
   "execution_count": 5,
   "metadata": {
    "scrolled": true
   },
   "outputs": [
    {
     "name": "stdout",
     "output_type": "stream",
     "text": [
      "{'_id': {'Function': None}, 'TotalinGroup': 6}\n",
      "{'_id': {'Function': 'authorize'}, 'TotalinGroup': 12}\n"
     ]
    }
   ],
   "source": [
    "### Getting Function wise counts\n",
    "funcn=db.statscollection.aggregate([ \n",
    "    {\"$group\":{\"_id\":{\"Function\":\"$function_name\"},\"TotalinGroup\":{\"$sum\":1}}}])\n",
    "for _ in funcn:\n",
    "    print(_)"
   ]
  },
  {
   "cell_type": "code",
   "execution_count": 6,
   "metadata": {},
   "outputs": [
    {
     "data": {
      "text/plain": [
       "[{'_id': {'Datewise': datetime.datetime(2020, 8, 25, 11, 44, 48)},\n",
       "  'TotalinDate': 1},\n",
       " {'_id': {'Datewise': datetime.datetime(2020, 8, 21, 18, 8, 54)},\n",
       "  'TotalinDate': 1},\n",
       " {'_id': {'Datewise': datetime.datetime(2020, 8, 25, 15, 5, 19)},\n",
       "  'TotalinDate': 1},\n",
       " {'_id': {'Datewise': datetime.datetime(2020, 8, 28, 19, 34, 49)},\n",
       "  'TotalinDate': 1},\n",
       " {'_id': {'Datewise': datetime.datetime(2020, 8, 21, 18, 8, 18)},\n",
       "  'TotalinDate': 1},\n",
       " {'_id': {'Datewise': datetime.datetime(2020, 8, 25, 22, 48, 25)},\n",
       "  'TotalinDate': 1},\n",
       " {'_id': {'Datewise': datetime.datetime(2020, 8, 28, 17, 51, 33)},\n",
       "  'TotalinDate': 1},\n",
       " {'_id': {'Datewise': datetime.datetime(2020, 8, 21, 17, 6, 52)},\n",
       "  'TotalinDate': 1},\n",
       " {'_id': {'Datewise': datetime.datetime(2020, 8, 28, 19, 37, 14)},\n",
       "  'TotalinDate': 1},\n",
       " {'_id': {'Datewise': datetime.datetime(2020, 8, 21, 16, 40, 18)},\n",
       "  'TotalinDate': 1},\n",
       " {'_id': {'Datewise': datetime.datetime(2020, 8, 25, 11, 45, 24)},\n",
       "  'TotalinDate': 1},\n",
       " {'_id': {'Datewise': datetime.datetime(2020, 8, 25, 11, 45, 42)},\n",
       "  'TotalinDate': 1},\n",
       " {'_id': {'Datewise': datetime.datetime(2020, 8, 28, 19, 12, 23)},\n",
       "  'TotalinDate': 1},\n",
       " {'_id': {'Datewise': datetime.datetime(2020, 8, 25, 11, 46, 1)},\n",
       "  'TotalinDate': 1},\n",
       " {'_id': {'Datewise': datetime.datetime(2020, 8, 29, 1, 35, 46)},\n",
       "  'TotalinDate': 1},\n",
       " {'_id': {'Datewise': datetime.datetime(2020, 8, 29, 1, 46, 10)},\n",
       "  'TotalinDate': 1},\n",
       " {'_id': {'Datewise': datetime.datetime(2020, 8, 28, 17, 57, 16)},\n",
       "  'TotalinDate': 1},\n",
       " {'_id': {'Datewise': datetime.datetime(2020, 8, 28, 19, 57, 26)},\n",
       "  'TotalinDate': 1}]"
      ]
     },
     "execution_count": 6,
     "metadata": {},
     "output_type": "execute_result"
    }
   ],
   "source": [
    "datewise=stats.aggregate([\n",
    "{\"$group\":{\"_id\":{\"Datewise\":\"$created_date\"},\"TotalinDate\":{\"$sum\":1}}}\n",
    "])\n",
    "list(datewise)"
   ]
  },
  {
   "cell_type": "code",
   "execution_count": null,
   "metadata": {},
   "outputs": [],
   "source": []
  }
 ],
 "metadata": {
  "kernelspec": {
   "display_name": "Python 3",
   "language": "python",
   "name": "python3"
  },
  "language_info": {
   "codemirror_mode": {
    "name": "ipython",
    "version": 3
   },
   "file_extension": ".py",
   "mimetype": "text/x-python",
   "name": "python",
   "nbconvert_exporter": "python",
   "pygments_lexer": "ipython3",
   "version": "3.8.5"
  }
 },
 "nbformat": 4,
 "nbformat_minor": 4
}
