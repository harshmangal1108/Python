{
 "cells": [
  {
   "cell_type": "code",
   "execution_count": null,
   "metadata": {},
   "outputs": [],
   "source": [
    "import smtplib,ssl,getpass"
   ]
  },
  {
   "cell_type": "code",
   "execution_count": null,
   "metadata": {},
   "outputs": [],
   "source": [
    "port=465 #ssl port\n",
    "smtp_server=\"smtp.gmail.com\"\n",
    "sender=\"harsh.mangal03acc@gmail.com\"\n",
    "################\n",
    "reciever=['manishchauhan.agc9@gmail.com',\n",
    "          'punitjoshi221199@gmail.com ',\n",
    "          'hamamagarwal007@gmail.com']\n",
    "          \n",
    "password=getpass.getpass()\n",
    "message=\"\"\"\\\n",
    "Subject: Hi from Harsh\n",
    "This message is scripted\n",
    "\"\"\"\n",
    "context=ssl.create_default_context()\n",
    "with smtplib.SMTP_SSL(smtp_server,port,context=context) as serv:\n",
    "    serv.login(sender,password)\n",
    "    serv.sendmail(sender,reciever,message)\n"
   ]
  },
  {
   "cell_type": "code",
   "execution_count": null,
   "metadata": {},
   "outputs": [],
   "source": []
  }
 ],
 "metadata": {
  "kernelspec": {
   "display_name": "Python 3",
   "language": "python",
   "name": "python3"
  },
  "language_info": {
   "codemirror_mode": {
    "name": "ipython",
    "version": 3
   },
   "file_extension": ".py",
   "mimetype": "text/x-python",
   "name": "python",
   "nbconvert_exporter": "python",
   "pygments_lexer": "ipython3",
   "version": "3.8.5"
  }
 },
 "nbformat": 4,
 "nbformat_minor": 4
}
