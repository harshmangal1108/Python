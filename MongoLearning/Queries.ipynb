{
 "cells": [
  {
   "cell_type": "code",
   "execution_count": 8,
   "metadata": {},
   "outputs": [
    {
     "name": "stdout",
     "output_type": "stream",
     "text": [
      "['statscollection', 'collection1', 'collection']\n"
     ]
    }
   ],
   "source": [
    "## Connectiing through file\n",
    "from pymongo import MongoClient\n",
    "with open(\"untitled.txt\",'r') as f:\n",
    "    content=f.read()\n",
    "###\n",
    "client=MongoClient(content)\n",
    "db=client.newdb\n",
    "print(db.list_collection_names())\n",
    "stat=db.statscollection\n"
   ]
  },
  {
   "cell_type": "code",
   "execution_count": 5,
   "metadata": {},
   "outputs": [
    {
     "name": "stdout",
     "output_type": "stream",
     "text": [
      "{'_id': {'Datewise': datetime.datetime(2020, 8, 28, 17, 51, 33)}, 'TotalinDate': 1}\n",
      "{'_id': {'Datewise': datetime.datetime(2020, 8, 28, 19, 12, 23)}, 'TotalinDate': 1}\n",
      "{'_id': {'Datewise': datetime.datetime(2020, 8, 25, 11, 45, 24)}, 'TotalinDate': 1}\n",
      "{'_id': {'Datewise': datetime.datetime(2020, 8, 21, 18, 8, 54)}, 'TotalinDate': 1}\n",
      "{'_id': {'Datewise': datetime.datetime(2020, 8, 25, 11, 44, 48)}, 'TotalinDate': 1}\n",
      "{'_id': {'Datewise': datetime.datetime(2020, 8, 25, 11, 46, 1)}, 'TotalinDate': 1}\n",
      "{'_id': {'Datewise': datetime.datetime(2020, 8, 25, 15, 5, 19)}, 'TotalinDate': 1}\n",
      "{'_id': {'Datewise': datetime.datetime(2020, 8, 25, 22, 48, 25)}, 'TotalinDate': 1}\n",
      "{'_id': {'Datewise': datetime.datetime(2020, 8, 28, 19, 34, 49)}, 'TotalinDate': 1}\n",
      "{'_id': {'Datewise': datetime.datetime(2020, 8, 28, 17, 57, 16)}, 'TotalinDate': 1}\n",
      "{'_id': {'Datewise': datetime.datetime(2020, 8, 21, 17, 6, 52)}, 'TotalinDate': 1}\n",
      "{'_id': {'Datewise': datetime.datetime(2020, 8, 21, 16, 40, 18)}, 'TotalinDate': 1}\n",
      "{'_id': {'Datewise': datetime.datetime(2020, 8, 28, 19, 37, 14)}, 'TotalinDate': 1}\n",
      "{'_id': {'Datewise': datetime.datetime(2020, 8, 28, 19, 57, 26)}, 'TotalinDate': 1}\n",
      "{'_id': {'Datewise': datetime.datetime(2020, 8, 29, 1, 35, 46)}, 'TotalinDate': 1}\n",
      "{'_id': {'Datewise': datetime.datetime(2020, 8, 25, 11, 45, 42)}, 'TotalinDate': 1}\n",
      "{'_id': {'Datewise': datetime.datetime(2020, 8, 29, 1, 46, 10)}, 'TotalinDate': 1}\n",
      "{'_id': {'Datewise': datetime.datetime(2020, 8, 21, 18, 8, 18)}, 'TotalinDate': 1}\n"
     ]
    }
   ],
   "source": [
    "#### 2. Getting Count DateWise\n",
    "def datewise():\n",
    "    date_count=db.statscollection.aggregate([\n",
    "    {\"$group\":{\"_id\":{\"Datewise\":\"$created_date\"},\"TotalinDate\":{\"$sum\":1}}}])\n",
    "    for _ in date_count:\n",
    "        print(_)\n",
    "datewise()"
   ]
  },
  {
   "cell_type": "code",
   "execution_count": 7,
   "metadata": {},
   "outputs": [
    {
     "name": "stdout",
     "output_type": "stream",
     "text": [
      "{'_id': {'Function': None}, 'TotalinGroup': 6}\n",
      "{'_id': {'Function': 'authorize'}, 'TotalinGroup': 12}\n"
     ]
    }
   ],
   "source": [
    "def functionwise_count():\n",
    "    funcn=db.statscollection.aggregate([ \n",
    "    {\"$group\":{\"_id\":{\"Function\":\"$function_name\"},\"TotalinGroup\":{\"$sum\":1}}}])\n",
    "    for _ in funcn:\n",
    "        print(_)\n",
    "functionwise_count()"
   ]
  },
  {
   "cell_type": "code",
   "execution_count": 28,
   "metadata": {},
   "outputs": [
    {
     "name": "stdout",
     "output_type": "stream",
     "text": [
      "_id\n",
      "request_data\n",
      "browser\n",
      "authorization_code\n",
      "status_code\n",
      "org_id\n",
      "relogin\n",
      "public_ip\n",
      "step\n",
      "client_id\n",
      "_updated\n",
      "user_id\n",
      "callback_from_ac_service\n",
      "flow\n",
      "response_data\n",
      "server_ip\n",
      "created_date\n",
      "_created\n",
      "function_name\n",
      "request_header\n"
     ]
    }
   ],
   "source": [
    "import datetime\n",
    "\n",
    "start=datetime.datetime(2020,8,21,16,40,18) ##3 1 august 6:08pm\n",
    "#end=datetime.datetime()\n",
    "result=stat.find_one( \n",
    "{'created_date':{'$gte':start,'$lt':start}}\n",
    ")\n",
    "for i in result:\n",
    "    print(i)"
   ]
  },
  {
   "cell_type": "code",
   "execution_count": null,
   "metadata": {},
   "outputs": [],
   "source": []
  },
  {
   "cell_type": "code",
   "execution_count": null,
   "metadata": {},
   "outputs": [],
   "source": []
  }
 ],
 "metadata": {
  "kernelspec": {
   "display_name": "Python 3",
   "language": "python",
   "name": "python3"
  },
  "language_info": {
   "codemirror_mode": {
    "name": "ipython",
    "version": 3
   },
   "file_extension": ".py",
   "mimetype": "text/x-python",
   "name": "python",
   "nbconvert_exporter": "python",
   "pygments_lexer": "ipython3",
   "version": "3.8.5"
  }
 },
 "nbformat": 4,
 "nbformat_minor": 4
}
