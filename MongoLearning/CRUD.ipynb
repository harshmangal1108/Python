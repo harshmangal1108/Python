{
 "cells": [
  {
   "cell_type": "code",
   "execution_count": 1,
   "metadata": {},
   "outputs": [],
   "source": [
    "import pymongo\n",
    "import pprint"
   ]
  },
  {
   "cell_type": "code",
   "execution_count": 2,
   "metadata": {},
   "outputs": [
    {
     "name": "stdout",
     "output_type": "stream",
     "text": [
      "MongoClient(host=['localhost:27017'], document_class=dict, tz_aware=False, connect=True)\n"
     ]
    }
   ],
   "source": [
    "## establish connection\n",
    "from pymongo import MongoClient\n",
    "client=MongoClient()\n",
    "print(client)"
   ]
  },
  {
   "cell_type": "code",
   "execution_count": 3,
   "metadata": {},
   "outputs": [
    {
     "name": "stdout",
     "output_type": "stream",
     "text": [
      "['admin', 'config', 'flight', 'local', 'newdb', 'shop', 'test_database']\n"
     ]
    }
   ],
   "source": [
    "\n",
    "'''\n",
    "client=MongoClient(\"Localhost\",27017)\n",
    "client=MongoClient(\"mongodb://localhost:27107\")\n",
    "\n",
    "'''\n",
    "###check Databases\n",
    "print(client.list_database_names())\n"
   ]
  },
  {
   "cell_type": "code",
   "execution_count": 4,
   "metadata": {},
   "outputs": [
    {
     "name": "stdout",
     "output_type": "stream",
     "text": [
      "Database(MongoClient(host=['localhost:27017'], document_class=dict, tz_aware=False, connect=True), 'test_database')\n",
      "['courses']\n"
     ]
    }
   ],
   "source": [
    "###create DB\n",
    "db=client.test_database ## client['test-database']\n",
    "print(db)\n",
    "print(db.list_collection_names())"
   ]
  },
  {
   "cell_type": "code",
   "execution_count": 5,
   "metadata": {},
   "outputs": [
    {
     "name": "stdout",
     "output_type": "stream",
     "text": [
      "Collection(Database(MongoClient(host=['localhost:27017'], document_class=dict, tz_aware=False, connect=True), 'test_database'), 'courses')\n"
     ]
    }
   ],
   "source": [
    "###collection\n",
    "courses=db.courses  #db['course']\n",
    "print(courses)"
   ]
  },
  {
   "cell_type": "markdown",
   "metadata": {},
   "source": [
    "### CREATE"
   ]
  },
  {
   "cell_type": "code",
   "execution_count": 6,
   "metadata": {},
   "outputs": [
    {
     "name": "stdout",
     "output_type": "stream",
     "text": [
      "Doc added Id is.. 5f585c531086228577f6e16d\n"
     ]
    }
   ],
   "source": [
    " ### insert doc\n",
    "course={\"author\":\"harsh\",\"course\":\"mongo-tut\",'price':100}\n",
    "result=courses.insert_one(course)\n",
    "if result.acknowledged:\n",
    "    print(\"Doc added Id is..\",result.inserted_id)"
   ]
  },
  {
   "cell_type": "code",
   "execution_count": 7,
   "metadata": {},
   "outputs": [
    {
     "name": "stdout",
     "output_type": "stream",
     "text": [
      "5f585c531086228577f6e16e\n",
      "5f585c531086228577f6e16f\n",
      "5f585c531086228577f6e170\n",
      "5f585c531086228577f6e171\n",
      "5f585c531086228577f6e172\n",
      "5f585c531086228577f6e173\n",
      "5f585c531086228577f6e174\n",
      "5f585c531086228577f6e175\n",
      "5f585c531086228577f6e176\n",
      "5f585c531086228577f6e177\n",
      "5f585c531086228577f6e178\n",
      "5f585c531086228577f6e179\n",
      "5f585c531086228577f6e17a\n",
      "5f585c531086228577f6e17b\n",
      "5f585c531086228577f6e17c\n",
      "5f585c531086228577f6e17d\n",
      "5f585c531086228577f6e17e\n"
     ]
    }
   ],
   "source": [
    "### inserting many\n",
    "array_courses=[\n",
    "  {\n",
    "    \"name\": \"Max Schwarzmueller\",\n",
    "    \"age\": 29\n",
    "  },\n",
    "  {\n",
    "    \"name\": \"Manu Lorenz\",\n",
    "    \"age\": 30\n",
    "  },\n",
    "  {\n",
    "    \"name\": \"Chris Hayton\",\n",
    "    \"age\": 35\n",
    "  },\n",
    "  {\n",
    "    \"name\": \"Sandra Brugge\",\n",
    "    \"age\": 33\n",
    "  },\n",
    "  {\n",
    "    \"name\": \"Elisabeth Mayr\",\n",
    "    \"age\": 29\n",
    "  },\n",
    "  {\n",
    "    \"name\": \"Frank Cube\",\n",
    "    \"age\": 41\n",
    "  },\n",
    "  {\n",
    "    \"name\": \"Karandeep Alun\",\n",
    "    \"age\": 48\n",
    "  },\n",
    "  {\n",
    "    \"name\": \"Michaela Drayer\",\n",
    "    \"age\": 39\n",
    "  },\n",
    "  {\n",
    "    \"name\": \"Bernd Hoftstadt\",\n",
    "    \"age\": 22\n",
    "  },\n",
    "  {\n",
    "    \"name\": \"Scott Tolib\",\n",
    "    \"age\": 44\n",
    "  },\n",
    "  {\n",
    "    \"name\": \"Freddy Melver\",\n",
    "    \"age\": 41\n",
    "  },\n",
    "  {\n",
    "    \"name\": \"Alexis Bohed\",\n",
    "    \"age\": 35\n",
    "  },\n",
    "  {\n",
    "    \"name\": \"Melanie Palace\",\n",
    "    \"age\": 27\n",
    "  },\n",
    "  {\n",
    "    \"name\": \"Armin Glutch\",\n",
    "    \"age\": 35\n",
    "  },\n",
    "  {\n",
    "    \"name\": \"Klaus Arber\",\n",
    "    \"age\": 53\n",
    "  },\n",
    "  {\n",
    "    \"name\": \"Albert Twostone\",\n",
    "    \"age\": 68\n",
    "  },\n",
    "  {\n",
    "    \"name\": \"Gordon Black\",\n",
    "    \"age\": 38\n",
    "  }\n",
    "]\n",
    "result=courses.insert_many(array_courses)\n",
    "#if result.acknowledged:\n",
    " #   print(\"Docs added ids are..\",result.inserted_ids)\n",
    "for object_id in result.inserted_ids:\n",
    "    print(object_id)"
   ]
  },
  {
   "cell_type": "code",
   "execution_count": 8,
   "metadata": {},
   "outputs": [
    {
     "name": "stdout",
     "output_type": "stream",
     "text": [
      "18\n"
     ]
    }
   ],
   "source": [
    "##count Docss in collection..\n",
    "print(db.courses.count_documents({}))"
   ]
  },
  {
   "cell_type": "code",
   "execution_count": 9,
   "metadata": {},
   "outputs": [],
   "source": [
    "#for object_id in result.inserted_ids:\n",
    " #   print(object_id)"
   ]
  },
  {
   "cell_type": "markdown",
   "metadata": {},
   "source": [
    "### READ"
   ]
  },
  {
   "cell_type": "code",
   "execution_count": 10,
   "metadata": {},
   "outputs": [
    {
     "data": {
      "text/plain": [
       "\"courses=courses.find({'age':{'$gt':2}}) ##it will return cursor\\nfor course in courses:\\n    print(course)\\n    #pprint.pprint(course)\""
      ]
     },
     "execution_count": 10,
     "metadata": {},
     "output_type": "execute_result"
    }
   ],
   "source": [
    "### retrieve data\n",
    "\"\"\"courses=courses.find({'age':{'$gt':2}}) ##it will return cursor\n",
    "for course in courses:\n",
    "    print(course)\n",
    "    #pprint.pprint(course)\"\"\""
   ]
  },
  {
   "cell_type": "code",
   "execution_count": 11,
   "metadata": {},
   "outputs": [
    {
     "name": "stdout",
     "output_type": "stream",
     "text": [
      "{'_id': ObjectId('5f585c531086228577f6e173'), 'age': 41, 'name': 'Frank Cube'}\n"
     ]
    }
   ],
   "source": [
    "### Sort,SKip,limit\n",
    "#courses=courses.find().sort('age',1) ##-1 for descending\n",
    "courses=courses.find().sort([('author',1),('name',-1)]).limit(1).skip(10) #sort on mutli condtion\n",
    "### we can put \".limit(2) after find() to limit number of docs\"\n",
    "for course in courses:\n",
    "    pprint.pprint(course)\n",
    "    ##eleventh doc after sorting"
   ]
  },
  {
   "cell_type": "markdown",
   "metadata": {},
   "source": [
    "### UPDATE"
   ]
  },
  {
   "cell_type": "code",
   "execution_count": 12,
   "metadata": {},
   "outputs": [
    {
     "ename": "AttributeError",
     "evalue": "'Cursor' object has no attribute 'update'",
     "output_type": "error",
     "traceback": [
      "\u001b[0;31m---------------------------------------------------------------------------\u001b[0m",
      "\u001b[0;31mAttributeError\u001b[0m                            Traceback (most recent call last)",
      "\u001b[0;32m<ipython-input-12-a2474136d826>\u001b[0m in \u001b[0;36m<module>\u001b[0;34m\u001b[0m\n\u001b[0;32m----> 1\u001b[0;31m \u001b[0mcourses\u001b[0m\u001b[0;34m.\u001b[0m\u001b[0mupdate\u001b[0m\u001b[0;34m(\u001b[0m\u001b[0;34m{\u001b[0m\u001b[0;34m'course'\u001b[0m\u001b[0;34m:\u001b[0m\u001b[0;34m'mongo-tut'\u001b[0m\u001b[0;34m}\u001b[0m\u001b[0;34m,\u001b[0m\u001b[0;34m{\u001b[0m\u001b[0;34m'$set'\u001b[0m\u001b[0;34m:\u001b[0m\u001b[0;34m{\u001b[0m\u001b[0;34m'course'\u001b[0m\u001b[0;34m:\u001b[0m\u001b[0;34m'mongodb'\u001b[0m\u001b[0;34m}\u001b[0m\u001b[0;34m}\u001b[0m\u001b[0;34m)\u001b[0m\u001b[0;34m\u001b[0m\u001b[0;34m\u001b[0m\u001b[0m\n\u001b[0m",
      "\u001b[0;31mAttributeError\u001b[0m: 'Cursor' object has no attribute 'update'"
     ]
    }
   ],
   "source": [
    "courses.update({'course':'mongo-tut'},{'$set':{'course':'mongodb'}})"
   ]
  },
  {
   "cell_type": "markdown",
   "metadata": {},
   "source": [
    "### DELETE"
   ]
  },
  {
   "cell_type": "code",
   "execution_count": null,
   "metadata": {},
   "outputs": [],
   "source": [
    "courses.delete_one({''})"
   ]
  }
 ],
 "metadata": {
  "kernelspec": {
   "display_name": "Python 3",
   "language": "python",
   "name": "python3"
  },
  "language_info": {
   "codemirror_mode": {
    "name": "ipython",
    "version": 3
   },
   "file_extension": ".py",
   "mimetype": "text/x-python",
   "name": "python",
   "nbconvert_exporter": "python",
   "pygments_lexer": "ipython3",
   "version": "3.8.5"
  }
 },
 "nbformat": 4,
 "nbformat_minor": 4
}
