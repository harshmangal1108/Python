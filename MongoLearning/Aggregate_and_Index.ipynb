{
 "cells": [
  {
   "cell_type": "code",
   "execution_count": null,
   "metadata": {},
   "outputs": [],
   "source": [
    "import pymongo\n",
    "from pymongo import MongoClient\n",
    "client=MongoClient()\n",
    "print(client)"
   ]
  },
  {
   "cell_type": "code",
   "execution_count": null,
   "metadata": {},
   "outputs": [],
   "source": [
    "print(client.database_names())\n",
    "db=client.newdb"
   ]
  },
  {
   "cell_type": "code",
   "execution_count": null,
   "metadata": {},
   "outputs": [],
   "source": [
    "## collection\n",
    "collection=db.collection\n",
    "collection1=db.collection1 ## this one for index"
   ]
  },
  {
   "cell_type": "code",
   "execution_count": null,
   "metadata": {},
   "outputs": [],
   "source": [
    "### inserting many\n",
    "array_courses=[\n",
    "  {\n",
    "    \"name\": \"Max Schwarzmueller\",\n",
    "    \"age\": 29\n",
    "  },\n",
    "  {\n",
    "    \"name\": \"Manu Lorenz\",\n",
    "    \"age\": 30\n",
    "  },\n",
    "  {\n",
    "    \"name\": \"Chris Hayton\",\n",
    "    \"age\": 35\n",
    "  },\n",
    "  {\n",
    "    \"name\": \"Sandra Brugge\",\n",
    "    \"age\": 33\n",
    "  },\n",
    "  {\n",
    "    \"name\": \"Elisabeth Mayr\",\n",
    "    \"age\": 29\n",
    "  },\n",
    "  {\n",
    "    \"name\": \"Frank Cube\",\n",
    "    \"age\": 41\n",
    "  },\n",
    "  {\n",
    "    \"name\": \"Karandeep Alun\",\n",
    "    \"age\": 48\n",
    "  },\n",
    "  {\n",
    "    \"name\": \"Michaela Drayer\",\n",
    "    \"age\": 39\n",
    "  },\n",
    "  {\n",
    "    \"name\": \"Bernd Hoftstadt\",\n",
    "    \"age\": 22\n",
    "  },\n",
    "  {\n",
    "    \"name\": \"Scott Tolib\",\n",
    "    \"age\": 44\n",
    "  },\n",
    "  {\n",
    "    \"name\": \"Freddy Melver\",\n",
    "    \"age\": 41\n",
    "  },\n",
    "  {\n",
    "    \"name\": \"Alexis Bohed\",\n",
    "    \"age\": 35\n",
    "  },\n",
    "  {\n",
    "    \"name\": \"Melanie Palace\",\n",
    "    \"age\": 27\n",
    "  },\n",
    "  {\n",
    "    \"name\": \"Armin Glutch\",\n",
    "    \"age\": 35\n",
    "  },\n",
    "  {\n",
    "    \"name\": \"Klaus Arber\",\n",
    "    \"age\": 53\n",
    "  },\n",
    "  {\n",
    "    \"name\": \"Albert Twostone\",\n",
    "    \"age\": 68\n",
    "  },\n",
    "  {\n",
    "    \"name\": \"Gordon Black\",\n",
    "    \"age\": 38\n",
    "  }\n",
    "]\n",
    "result=collection.insert_many(array_courses)\n",
    "result1=collection1.insert_many(array_courses)\n",
    "\n",
    "#if result.acknowledged:\n",
    " #   print(\"Docs added ids are..\",result.inserted_ids)\n",
    "for object_id in result.inserted_ids:\n",
    "    print(object_id)"
   ]
  },
  {
   "cell_type": "code",
   "execution_count": null,
   "metadata": {},
   "outputs": [],
   "source": [
    "print(db.collection1.count_documents({}))"
   ]
  },
  {
   "cell_type": "code",
   "execution_count": null,
   "metadata": {},
   "outputs": [],
   "source": [
    "### AGgregate\n",
    "print(list(collection.aggregate([\n",
    "    {\n",
    "        \"$group\":{\n",
    "            '_id':'$name', ##cmplsry\n",
    "            'avg_Age':{'$avg':'$age'}\n",
    "        }\n",
    "    }\n",
    "])))"
   ]
  },
  {
   "cell_type": "code",
   "execution_count": null,
   "metadata": {},
   "outputs": [],
   "source": [
    "#### Creating Index\n",
    "collection1.create_index([('name',1)],unique=True)"
   ]
  },
  {
   "cell_type": "code",
   "execution_count": null,
   "metadata": {},
   "outputs": [],
   "source": []
  }
 ],
 "metadata": {
  "kernelspec": {
   "display_name": "Python 3",
   "language": "python",
   "name": "python3"
  },
  "language_info": {
   "codemirror_mode": {
    "name": "ipython",
    "version": 3
   },
   "file_extension": ".py",
   "mimetype": "text/x-python",
   "name": "python",
   "nbconvert_exporter": "python",
   "pygments_lexer": "ipython3",
   "version": "3.8.5"
  }
 },
 "nbformat": 4,
 "nbformat_minor": 4
}
