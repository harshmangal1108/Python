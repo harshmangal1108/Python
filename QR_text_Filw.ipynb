{
 "cells": [
  {
   "cell_type": "code",
   "execution_count": 1,
   "metadata": {},
   "outputs": [],
   "source": [
    "import cv2\n",
    "import pyzbar.pyzbar as pyzbar\n",
    "import numpy"
   ]
  },
  {
   "cell_type": "code",
   "execution_count": 2,
   "metadata": {},
   "outputs": [],
   "source": [
    "cap= cv2.VideoCapture(0)\n",
    "font = cv2.FONT_ITALIC\n",
    "while True:\n",
    "    _,frame = cap.read()\n",
    "    ### QR detection\n",
    "    decodedobjects = pyzbar.decode(frame)\n",
    "    for obj in decodedobjects:\n",
    "        #print(\"Data\",obj.data) ##  print output to console\n",
    "        #cv2.putText(frame,str(obj.data),(50,50),font,0.5,(255,0,0),3)\n",
    "        with open(\"Att.txt\",\"a\") as f:\n",
    "            f.read()\n",
    "            f.write(obj.data.decode(\"utf-8\"))\n",
    "    cv2.imshow(\"Frame\",frame)\n",
    "    key = cv2.waitKey(1)\n",
    "    if  cv2.waitKey(10)  &  0xff  == ord('q') :\n",
    "        break\n",
    "cv2.destroyAllWindows()\n",
    "cap.release()\n",
    "        \n"
   ]
  },
  {
   "cell_type": "code",
   "execution_count": 3,
   "metadata": {},
   "outputs": [
    {
     "name": "stdout",
     "output_type": "stream",
     "text": [
      "Harsh MangalHarsh MangalHarsh MangalHarsh MangalHarsh MangalHarsh MangalHarsh MangalHarsh MangalHarsh MangalHarsh MangalHarsh MangalHarsh MangalHarsh MangalHarsh MangalHarsh MangalHarsh MangalHarsh MangalHarsh MangalHarsh MangalHarsh MangalHarsh MangalHarsh MangalHarsh MangalHarsh MangalHarsh MangalHarsh MangalHarsh MangalHarsh MangalHarsh MangalHarsh MangalHarsh MangalHarsh MangalHarsh MangalHarsh MangalHarsh MangalHarsh MangalHarsh MangalHarsh MangalHarsh MangalHarsh MangalHarsh MangalHarsh MangalHarsh MangalHarsh MangalHarsh MangalHarsh MangalHarsh MangalHarsh MangalHarsh MangalHarsh MangalHarsh MangalHarsh MangalHarsh MangalHarsh MangalHarsh MangalHarsh MangalHarsh MangalHarsh MangalHarsh MangalHarsh MangalHarsh MangalHarsh MangalHarsh MangalHarsh MangalHarsh MangalHarsh MangalHarsh MangalHarsh MangalHarsh MangalHarsh MangalHarsh MangalHarsh MangalHarsh MangalHarsh MangalHarsh MangalHarsh MangalHarsh MangalHarsh MangalHarsh MangalHarsh MangalHarsh MangalHarsh MangalHarsh MangalHarsh MangalHarsh MangalHarsh MangalHarsh MangalHarsh MangalHarsh MangalHarsh MangalHarsh MangalHarsh MangalHarsh MangalHarsh MangalHarsh MangalHarsh MangalHarsh MangalHarsh MangalHarsh MangalHarsh MangalHarsh MangalHarsh MangalHarsh MangalHarsh MangalHarsh MangalHarsh MangalHarsh MangalHarsh MangalHarsh MangalHarsh MangalHarsh MangalHarsh MangalHarsh MangalHarsh MangalHarsh MangalHarsh MangalHarsh MangalHarsh MangalHarsh MangalHarsh MangalHarsh MangalHarsh MangalHarsh MangalHarsh MangalHarsh MangalHarsh MangalHarsh MangalHarsh MangalHarsh MangalHarsh MangalHarsh MangalHarsh MangalHarsh MangalHarsh MangalHarsh MangalHarsh MangalHarsh MangalHarsh MangalHarsh MangalHarsh MangalHarsh MangalHarsh MangalHarsh MangalHarsh MangalHarsh MangalHarsh MangalHarsh MangalHarsh MangalHarsh MangalHarsh MangalHarsh MangalHarsh MangalHarsh MangalHarsh MangalHarsh MangalHarsh MangalHarsh MangalHarsh MangalHarsh MangalHarsh MangalHarsh MangalHarsh MangalHarsh MangalHarsh MangalHarsh MangalHarsh MangalHarsh MangalHarsh MangalHarsh MangalHarsh MangalHarsh MangalHarsh MangalHarsh MangalHarsh MangalHarsh MangalHarsh MangalHarsh MangalHarsh MangalHarsh MangalHarsh MangalHarsh MangalHarsh MangalHarsh MangalHarsh MangalHarsh MangalHarsh MangalHarsh MangalHarsh MangalHarsh MangalHarsh MangalHarsh MangalHarsh MangalHarsh MangalHarsh MangalHarsh MangalHarsh MangalHarsh MangalHarsh MangalHarsh MangalHarsh MangalHarsh MangalHarsh MangalHarsh MangalHarsh MangalHarsh MangalHarsh MangalHarsh MangalHarsh MangalHarsh MangalHarsh MangalHarsh MangalHarsh MangalHarsh MangalHarsh MangalHarsh MangalHarsh MangalHarsh MangalHarsh MangalHarsh MangalHarsh MangalHarsh MangalHarsh MangalHarsh MangalHarsh MangalHarsh MangalHarsh MangalHarsh MangalHarsh MangalHarsh MangalHarsh MangalHarsh MangalHarsh MangalHarsh MangalHarsh MangalHarsh MangalHarsh MangalHarsh MangalHarsh MangalHarsh MangalHarsh MangalHarsh MangalHarsh Mangal\n"
     ]
    }
   ],
   "source": [
    "with open(\"Att.txt\",\"r\") as f:\n",
    "            print(f.read())"
   ]
  },
  {
   "cell_type": "code",
   "execution_count": null,
   "metadata": {},
   "outputs": [],
   "source": []
  }
 ],
 "metadata": {
  "kernelspec": {
   "display_name": "Python 3",
   "language": "python",
   "name": "python3"
  },
  "language_info": {
   "codemirror_mode": {
    "name": "ipython",
    "version": 3
   },
   "file_extension": ".py",
   "mimetype": "text/x-python",
   "name": "python",
   "nbconvert_exporter": "python",
   "pygments_lexer": "ipython3",
   "version": "3.8.5"
  }
 },
 "nbformat": 4,
 "nbformat_minor": 4
}
