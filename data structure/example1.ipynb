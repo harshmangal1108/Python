{
 "cells": [
  {
   "cell_type": "code",
   "execution_count": 1,
   "metadata": {},
   "outputs": [
    {
     "data": {
      "text/plain": [
       "'Determine whether or not a set of brackets are balanced or not by making use of the stack data structure'"
      ]
     },
     "execution_count": 1,
     "metadata": {},
     "output_type": "execute_result"
    }
   ],
   "source": [
    "'''Determine whether or not a set of brackets are balanced or not by making use of the stack data structure'''"
   ]
  },
  {
   "cell_type": "code",
   "execution_count": 2,
   "metadata": {},
   "outputs": [],
   "source": [
    "# STACK OPERATIONS\n",
    "class Stack():\n",
    "    def __init__(self):\n",
    "        self.items=[]\n",
    "    def push(self,item): # Push: to insert element in stack\n",
    "        self.items.append(item)\n",
    "    def pop(self):       # Pop: to remove element from the top of stack\n",
    "        return self.items.pop()\n",
    "    def getstack(self): # It reutrns the elements in stack\n",
    "        return self.items\n",
    "    def isempty(self):   # returns TRUE if stack is empty else FALSE\n",
    "        return self.items == []\n",
    "    def peek(self):      # Peek: returns the top most element of the stack\n",
    "        if not self.isempty():\n",
    "            return self.items[-1]"
   ]
  },
  {
   "cell_type": "code",
   "execution_count": 3,
   "metadata": {},
   "outputs": [],
   "source": [
    "def is_paren_balanced(paren_string):\n",
    "    s=Stack()\n",
    "    is_balanced = True\n",
    "    index=0\n",
    "    while index<len(paren_string) and is_balanced :\n",
    "        paren = paren_string[index]\n",
    "        if paren in '([{':\n",
    "            s.push(paren)\n",
    "        else:\n",
    "            if s.isempty():\n",
    "                is_balanced=False\n",
    "            else:\n",
    "                top=s.pop()\n",
    "                if not is_match(top,paren):\n",
    "                    is_balanced=False\n",
    "        index+=1\n",
    "    if s.isempty() and is_balanced:\n",
    "        return True\n",
    "    else:\n",
    "        return False"
   ]
  },
  {
   "cell_type": "code",
   "execution_count": 4,
   "metadata": {},
   "outputs": [],
   "source": [
    "def is_match(p1,p2):\n",
    "    if p1 == '(' and p2 == ')':\n",
    "        return True\n",
    "    elif p1 == '[' and p2 == ']':\n",
    "        return True\n",
    "    elif p1 == '{' and p2 == '}':\n",
    "        return True\n",
    "    else :\n",
    "        return False"
   ]
  },
  {
   "cell_type": "code",
   "execution_count": 8,
   "metadata": {},
   "outputs": [
    {
     "name": "stdout",
     "output_type": "stream",
     "text": [
      "String : (((({})))) Balanced or not?\n",
      "True\n",
      "String : [][]]] Balanced or not?\n",
      "False\n",
      "String : [][] Balanced or not?\n",
      "True\n",
      "ENTER SEQUENCE OF BRACKETS([{)]}\n",
      "False\n"
     ]
    }
   ],
   "source": [
    "print(\"String : (((({})))) Balanced or not?\")\n",
    "print(is_paren_balanced(\"(((({}))))\"))\n",
    "\n",
    "print(\"String : [][]]] Balanced or not?\")\n",
    "print(is_paren_balanced(\"[][]]]\"))\n",
    "\n",
    "print(\"String : [][] Balanced or not?\")\n",
    "print(is_paren_balanced(\"[][]\"))\n",
    "brack=input(\"ENTER SEQUENCE OF BRACKETS\")\n",
    "print(is_paren_balanced(brack))"
   ]
  },
  {
   "cell_type": "code",
   "execution_count": null,
   "metadata": {},
   "outputs": [],
   "source": []
  }
 ],
 "metadata": {
  "kernelspec": {
   "display_name": "Python 3",
   "language": "python",
   "name": "python3"
  },
  "language_info": {
   "codemirror_mode": {
    "name": "ipython",
    "version": 3
   },
   "file_extension": ".py",
   "mimetype": "text/x-python",
   "name": "python",
   "nbconvert_exporter": "python",
   "pygments_lexer": "ipython3",
   "version": "3.6.8"
  }
 },
 "nbformat": 4,
 "nbformat_minor": 2
}
